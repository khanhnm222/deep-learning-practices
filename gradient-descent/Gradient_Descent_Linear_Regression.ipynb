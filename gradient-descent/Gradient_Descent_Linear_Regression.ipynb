{
  "nbformat": 4,
  "nbformat_minor": 0,
  "metadata": {
    "colab": {
      "provenance": []
    },
    "kernelspec": {
      "name": "python3",
      "display_name": "Python 3"
    },
    "language_info": {
      "name": "python"
    }
  },
  "cells": [
    {
      "cell_type": "code",
      "execution_count": 1,
      "metadata": {
        "colab": {
          "base_uri": "https://localhost:8080/"
        },
        "id": "zGiTVygZFedJ",
        "outputId": "4e75e214-6e04-4f4b-ef5d-32fc2742c263"
      },
      "outputs": [
        {
          "output_type": "stream",
          "name": "stdout",
          "text": [
            "Epoch   0 | Loss = 25.2087 | w = 0.1500, b = 0.0500\n",
            "Epoch  10 | Loss = 4.4565 | w = 1.1091, b = 0.3661\n",
            "Epoch  20 | Loss = 0.8269 | w = 1.5118, b = 0.4931\n",
            "Epoch  30 | Loss = 0.1910 | w = 1.6819, b = 0.5412\n",
            "Epoch  40 | Loss = 0.0784 | w = 1.7548, b = 0.5563\n",
            "Epoch  50 | Loss = 0.0574 | w = 1.7869, b = 0.5577\n",
            "Epoch  60 | Loss = 0.0524 | w = 1.8020, b = 0.5535\n",
            "Epoch  70 | Loss = 0.0503 | w = 1.8099, b = 0.5469\n",
            "Epoch  80 | Loss = 0.0487 | w = 1.8148, b = 0.5395\n",
            "Epoch  90 | Loss = 0.0473 | w = 1.8184, b = 0.5318\n",
            "Epoch  99 | Loss = 0.0460 | w = 1.8212, b = 0.5248\n"
          ]
        }
      ],
      "source": [
        "# Dữ liệu đầu vào\n",
        "X = [1, 2, 3, 4]\n",
        "y = [2, 4, 6, 8]\n",
        "\n",
        "# Khởi tạo trọng số và bias\n",
        "w = 0.0  # slope\n",
        "b = 0.0  # intercept\n",
        "\n",
        "# Siêu tham số\n",
        "learning_rate = 0.01\n",
        "epochs = 100\n",
        "\n",
        "# Hàm tính hàm mất mát (Mean Squared Error)\n",
        "def compute_loss(X, y, w, b):\n",
        "    total_error = 0\n",
        "    for i in range(len(X)):\n",
        "        y_pred = w * X[i] + b\n",
        "        error = y[i] - y_pred\n",
        "        total_error += error ** 2\n",
        "    return total_error / len(X)\n",
        "\n",
        "# Gradient Descent\n",
        "for epoch in range(epochs):\n",
        "    dw = 0.0\n",
        "    db = 0.0\n",
        "    n = len(X)\n",
        "\n",
        "    # Tính đạo hàm của loss theo w và b\n",
        "    for i in range(n):\n",
        "        y_pred = w * X[i] + b\n",
        "        error = y_pred - y[i]\n",
        "        dw += error * X[i]\n",
        "        db += error\n",
        "\n",
        "    # Lấy trung bình\n",
        "    dw /= n\n",
        "    db /= n\n",
        "\n",
        "    # Cập nhật tham số\n",
        "    w -= learning_rate * dw\n",
        "    b -= learning_rate * db\n",
        "\n",
        "    # In kết quả mỗi 10 vòng\n",
        "    if epoch % 10 == 0 or epoch == epochs - 1:\n",
        "        loss = compute_loss(X, y, w, b)\n",
        "        print(f\"Epoch {epoch:3d} | Loss = {loss:.4f} | w = {w:.4f}, b = {b:.4f}\")\n"
      ]
    }
  ]
}
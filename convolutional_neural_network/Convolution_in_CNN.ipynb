{
  "nbformat": 4,
  "nbformat_minor": 0,
  "metadata": {
    "colab": {
      "provenance": []
    },
    "kernelspec": {
      "name": "python3",
      "display_name": "Python 3"
    },
    "language_info": {
      "name": "python"
    }
  },
  "cells": [
    {
      "cell_type": "code",
      "execution_count": 1,
      "metadata": {
        "id": "Sm2Ew4cM_k-y"
      },
      "outputs": [],
      "source": [
        "import numpy as np\n",
        "\n",
        "def convolve2d(image, kernel, stride=1, padding=0):\n",
        "    # Lật kernel (convolution = cross-correlation + flip)\n",
        "    kernel = np.flipud(np.fliplr(kernel))\n",
        "\n",
        "    # Thêm padding nếu cần\n",
        "    if padding > 0:\n",
        "        image = np.pad(image, ((padding, padding), (padding, padding)), mode='constant')\n",
        "\n",
        "    kernel_height, kernel_width = kernel.shape\n",
        "    image_height, image_width = image.shape\n",
        "\n",
        "    # Tính kích thước đầu ra\n",
        "    out_height = (image_height - kernel_height) // stride + 1\n",
        "    out_width = (image_width - kernel_width) // stride + 1\n",
        "\n",
        "    # Khởi tạo đầu ra\n",
        "    output = np.zeros((out_height, out_width))\n",
        "\n",
        "    # Tính tích chập\n",
        "    for y in range(0, out_height):\n",
        "        for x in range(0, out_width):\n",
        "            region = image[y*stride:y*stride+kernel_height, x*stride:x*stride+kernel_width]\n",
        "            output[y, x] = np.sum(region * kernel)\n",
        "\n",
        "    return output\n"
      ]
    },
    {
      "cell_type": "code",
      "source": [
        "# Ảnh đầu vào 5x5\n",
        "image = np.array([\n",
        "    [1, 2, 0, 1, 3],\n",
        "    [4, 1, 0, 1, 2],\n",
        "    [1, 3, 1, 5, 1],\n",
        "    [6, 2, 1, 4, 0],\n",
        "    [2, 3, 0, 2, 3]\n",
        "])\n",
        "\n",
        "# Kernel lọc Sobel đơn giản (ví dụ)\n",
        "kernel = np.array([\n",
        "    [1, 0, -1],\n",
        "    [1, 0, -1],\n",
        "    [1, 0, -1]\n",
        "])\n",
        "\n",
        "# Tính tích chập\n",
        "output = convolve2d(image, kernel, stride=1, padding=1)\n",
        "print(\"Output:\\n\", output)\n"
      ],
      "metadata": {
        "colab": {
          "base_uri": "https://localhost:8080/"
        },
        "id": "S7aTdrna_tXu",
        "outputId": "a6c1d53b-02c9-4ca0-ce19-09950fdcac05"
      },
      "execution_count": 2,
      "outputs": [
        {
          "output_type": "stream",
          "name": "stdout",
          "text": [
            "Output:\n",
            " [[  3.  -5.  -1.   5.  -2.]\n",
            " [  6.  -5.   1.   5.  -7.]\n",
            " [  6.  -9.   4.   1. -10.]\n",
            " [  8.  -7.   3.   2. -11.]\n",
            " [  5.  -7.   1.   2.  -6.]]\n"
          ]
        }
      ]
    }
  ]
}